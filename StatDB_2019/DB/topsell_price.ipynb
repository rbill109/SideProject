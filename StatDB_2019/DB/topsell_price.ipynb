{
 "cells": [
  {
   "cell_type": "code",
   "execution_count": null,
   "metadata": {},
   "outputs": [],
   "source": [
    "import numpy as np\n",
    "import pandas as pd\n",
    "from tqdm import tqdm_notebook\n",
    "\n",
    "import pymysql\n",
    "\n",
    "from selenium import webdriver\n",
    "from selenium.webdriver.support.ui import WebDriverWait\n",
    "from selenium.webdriver.common.by import By\n",
    "from selenium.webdriver.support import expected_conditions as EC\n",
    "from selenium.common.exceptions import TimeoutException\n",
    "\n",
    "from bs4 import BeautifulSoup\n",
    " \n",
    "import re\n",
    "import time\n",
    "\n",
    "import matplotlib.pyplot as plt\n",
    "%matplotlib inline \n",
    "\n",
    "import platform\n",
    "\n",
    "from matplotlib import font_manager, rc\n",
    "plt.rcParams['axes.unicode_minus'] = False\n",
    "\n",
    "path = \"c:/Windows/Fonts/malgun.ttf\"\n",
    "font_name = font_manager.FontProperties(fname=path).get_name()\n",
    "rc('font', family=font_name)\n",
    "\n",
    "import seaborn as sns"
   ]
  },
  {
   "cell_type": "code",
   "execution_count": null,
   "metadata": {},
   "outputs": [],
   "source": [
    "options = webdriver.ChromeOptions()\n",
    "\n",
    "options.add_argument(\"--headless\")\n",
    "options.add_argument(\"--no-sandbox\")\n",
    "options.add_argument(\"--disable-gpu\")\n",
    "\n",
    "options.add_argument(\"window-size=1920x1080\")\n",
    "options.add_argument(\"lang=ko_KR\")\n",
    "options.add_argument(\"user-agent=Chrome/77.0.3865.90\")"
   ]
  },
  {
   "cell_type": "code",
   "execution_count": null,
   "metadata": {},
   "outputs": [],
   "source": [
    "# 게임 이름, 가격, 할인 여부, 링크 반환하는 함수\n",
    "def getPrice(tag):\n",
    "    getPrice_list=[]\n",
    "    for i in tqdm_notebook(tag):\n",
    "        title = i.find('div', {'class': 'tab_item_name'}).text\n",
    "        link = i['href'].split('com')[1]\n",
    "        # ori_price: 할인 품목인 경우의 원가\n",
    "        # fin_price: 할인 품목인 경우의 할인가/할인 품목이 아닌 경우의 원가\n",
    "        # discount: 할인 여부\n",
    "        try:\n",
    "            ori_price = i.find('div', {'class': 'discount_original_price'}).text\n",
    "            fin_price = i.find('div', {'class': 'discount_final_price'}).text\n",
    "            discount = 'Yes'\n",
    "        except:\n",
    "            try: \n",
    "                i.find('div', {'class': 'bundle_base_discount'}).text\n",
    "                # 세부 링크 접속\n",
    "                driver.get(i['href'])\n",
    "                try:\n",
    "                    WebDriverWait(driver, 5).until(EC.presence_of_element_located((By.CLASS_NAME, 'package_totals_row')))\n",
    "                    req_link = driver.page_source\n",
    "                    bs_link = BeautifulSoup(req_link, 'html.parser') \n",
    "                    ori_price = bs_link.find('div', {'class':'price bundle_final_package_price'}).text\n",
    "                    fin_price = bs_link.find('div', {'class':'price bundle_final_price_with_discount'}).text\n",
    "                    discount = 'Yes'\n",
    "                except:\n",
    "                    ori_price, fin_price, discount = 'NA','NA','NA'\n",
    "\n",
    "            except:\n",
    "                ori_price = 'NA'\n",
    "                fin_price = i.find('div', {'class': 'discount_final_price'}).text\n",
    "                discount = 'No'\n",
    "\n",
    "\n",
    "        dict_top = {'title': title,\n",
    "                    'original_price': ori_price,\n",
    "                    'final_price': fin_price,\n",
    "                    'discount': discount,\n",
    "                    'link': link}\n",
    "\n",
    "        getPrice_list.append(dict_top)\n",
    "        \n",
    "    return getPrice_list"
   ]
  },
  {
   "cell_type": "markdown",
   "metadata": {},
   "source": [
    "## 최고매출(Topseller) 게임 크롤링 및 DB 저장\n",
    "#### 이름, 가격, 할인 여부, 링크 수집"
   ]
  },
  {
   "cell_type": "code",
   "execution_count": null,
   "metadata": {},
   "outputs": [],
   "source": [
    "conn = pymysql.connect(host = \"203.252.196.68\",\n",
    "                       user = 'db1614681', passwd = 'stat1234', db = 'sql1614681',\n",
    "                       cursorclass=pymysql.cursors.DictCursor)\n",
    "cur = conn.cursor()"
   ]
  },
  {
   "cell_type": "code",
   "execution_count": null,
   "metadata": {},
   "outputs": [],
   "source": [
    "myquery = \"\"\"\n",
    "CREATE TABLE topsell_price (\n",
    "    ID BIGINT(7) NOT NULL AUTO_INCREMENT,\n",
    "    TITLE VARCHAR(100), \n",
    "    ORIGINAL_PRICE VARCHAR(100), \n",
    "    FINAL_PRICE VARCHAR(100), \n",
    "    DISCOUNT VARCHAR(100),\n",
    "    LINK VARCHAR(100),\n",
    "    PRIMARY KEY(ID) ) \n",
    "    CHARSET=utf8mb4 ;\n",
    "\"\"\"\n",
    "cur.execute(myquery)"
   ]
  },
  {
   "cell_type": "code",
   "execution_count": null,
   "metadata": {},
   "outputs": [],
   "source": [
    "for i in  tqdm_notebook(range(0,4)):    \n",
    "    url = \"https://store.steampowered.com/games/#p=\"+str(i)+\"&tab=TopSellers\"\n",
    "    driver = webdriver.Chrome(executable_path = 'C:/Users/yumincho/chromedriver/chromedriver.exe',\n",
    "                          options = options)\n",
    "    driver.get(url)\n",
    "    try:\n",
    "        WebDriverWait(driver, 5).until(EC.presence_of_element_located((By.ID, 'TopSellersTable')))\n",
    "        req = driver.page_source\n",
    "    finally:\n",
    "        req = driver.page_source     \n",
    "        \n",
    "    bs = BeautifulSoup(req, 'html.parser')\n",
    "    tag_15 = bs.find('div', {'id': 'TopSellersRows'}).findAll('a')\n",
    "    \n",
    "    # 이름, 가격, 링크 크롤링\n",
    "    price_list=getPrice(tag_15)\n",
    "    \n",
    "    # DB 저장\n",
    "    query = \"\"\"\n",
    "            INSERT INTO topsell_price (TITLE, ORIGINAL_PRICE, FINAL_PRICE, DISCOUNT, LINK)\n",
    "            VALUES (%s, %s, %s, %s, %s)\n",
    "            ;\n",
    "        \"\"\"\n",
    "    for i in range(0,15):\n",
    "        cur.execute( query, (price_list[i]['title'], \n",
    "                             price_list[i]['original_price'], \n",
    "                             price_list[i]['final_price'], \n",
    "                             price_list[i]['discount'],\n",
    "                             price_list[i]['link']))\n",
    "    driver.quit()"
   ]
  },
  {
   "cell_type": "code",
   "execution_count": null,
   "metadata": {},
   "outputs": [],
   "source": [
    "conn.commit()\n",
    "cur.close()\n",
    "conn.close()"
   ]
  },
  {
   "cell_type": "code",
   "execution_count": null,
   "metadata": {},
   "outputs": [],
   "source": []
  }
 ],
 "metadata": {
  "kernelspec": {
   "display_name": "Python 3",
   "language": "python",
   "name": "python3"
  },
  "language_info": {
   "codemirror_mode": {
    "name": "ipython",
    "version": 3
   },
   "file_extension": ".py",
   "mimetype": "text/x-python",
   "name": "python",
   "nbconvert_exporter": "python",
   "pygments_lexer": "ipython3",
   "version": "3.7.4"
  }
 },
 "nbformat": 4,
 "nbformat_minor": 2
}
