{
 "cells": [
  {
   "cell_type": "code",
   "execution_count": 1,
   "id": "f19eb3e2-6df5-459c-9516-bcfded9cf18a",
   "metadata": {},
   "outputs": [],
   "source": [
    "import time"
   ]
  },
  {
   "cell_type": "markdown",
   "id": "50458699-7d3e-4804-b80b-1d56502b3b34",
   "metadata": {},
   "source": [
    "# 후보키"
   ]
  },
  {
   "cell_type": "code",
   "execution_count": 69,
   "id": "bb29bd13-d486-4ec5-84ba-ad2725e8fd5f",
   "metadata": {},
   "outputs": [],
   "source": [
    "relation = [[\"100\",\"ryan\",\"music\",\"2\"],[\"200\",\"apeach\",\"math\",\"2\"],[\"300\",\"tube\",\"computer\",\"3\"],[\"400\",\"con\",\"computer\",\"4\"],[\"500\",\"muzi\",\"music\",\"3\"],[\"600\",\"apeach\",\"music\",\"2\"]]\n",
    "relation = [['a','1','aaa','c','ng'],['b','1','bbb','c','g'],['c','1','aaa','d','ng'],['d','2','bbb','d','ng']]"
   ]
  },
  {
   "cell_type": "code",
   "execution_count": 93,
   "id": "4a93030e-8a7e-4745-820b-112d1b28cc6a",
   "metadata": {},
   "outputs": [
    {
     "name": "stdout",
     "output_type": "stream",
     "text": [
      "[(0,), (1,), (2,), (3,), (4,), (0, 1), (0, 2), (0, 3), (0, 4), (1, 2), (1, 3), (1, 4), (2, 3), (2, 4), (3, 4), (0, 1, 2), (0, 1, 3), (0, 1, 4), (0, 2, 3), (0, 2, 4), (0, 3, 4), (1, 2, 3), (1, 2, 4), (1, 3, 4), (2, 3, 4), (0, 1, 2, 3), (0, 1, 2, 4), (0, 1, 3, 4), (0, 2, 3, 4), (1, 2, 3, 4), (0, 1, 2, 3, 4)]\n",
      "0.012694597244262695\n"
     ]
    }
   ],
   "source": [
    "run = 0\n",
    "from itertools import combinations as combi\n",
    "for _ in range(1000):\n",
    "    st = time.time()\n",
    "    res = []\n",
    "    for i in range(1, len(relation[0])+1):\n",
    "        res.extend(combi(range(len(relation[0])), i))\n",
    "    run += time.time()-st\n",
    "print(res)\n",
    "print(run)"
   ]
  },
  {
   "cell_type": "code",
   "execution_count": 92,
   "id": "4d3b95e6-e541-4081-ae4f-101b972b3419",
   "metadata": {},
   "outputs": [
    {
     "name": "stdout",
     "output_type": "stream",
     "text": [
      "[[0], [1], [2], [3], [4], [0, 1], [0, 2], [0, 3], [0, 4], [1, 2], [1, 3], [1, 4], [2, 3], [2, 4], [3, 4], [0, 1, 2], [0, 1, 3], [0, 1, 4], [0, 2, 3], [0, 2, 4], [0, 3, 4], [1, 2, 3], [1, 2, 4], [1, 3, 4], [2, 3, 4], [0, 1, 2, 3], [0, 1, 2, 4], [0, 1, 3, 4], [0, 2, 3, 4], [1, 2, 3, 4], [0, 1, 2, 3, 4]]\n",
      "0.12720584869384766\n"
     ]
    }
   ],
   "source": [
    "run = 0\n",
    "def DFS(v, s):\n",
    "    if v==m:\n",
    "        res.append(a[:])\n",
    "    else:\n",
    "        for i in range(s, n+1):\n",
    "            a[v]=i-1\n",
    "            DFS(v+1, i+1)\n",
    "            \n",
    "for _ in range(1000):\n",
    "    st = time.time()\n",
    "    n = len(relation[0])\n",
    "    res = []\n",
    "    # 조합 만들기\n",
    "    for m in range(1,n+1):\n",
    "        a = [0]*m\n",
    "        DFS(0, 1)\n",
    "    run += time.time()-st\n",
    "print(res)\n",
    "print(run)"
   ]
  },
  {
   "cell_type": "code",
   "execution_count": 95,
   "id": "b2abe081-a2a7-4365-a60e-e8218e6945a2",
   "metadata": {},
   "outputs": [
    {
     "data": {
      "text/plain": [
       "2"
      ]
     },
     "execution_count": 95,
     "metadata": {},
     "output_type": "execute_result"
    }
   ],
   "source": [
    "from collections import deque\n",
    "\n",
    "def solution(relation):\n",
    "    n = len(relation[0])\n",
    "    res = []\n",
    "    def DFS(v, s):\n",
    "        if v==m:\n",
    "            res.append(a[:])\n",
    "        else:\n",
    "            for i in range(s, n+1):\n",
    "                a[v]=i-1\n",
    "                DFS(v+1, i+1)\n",
    "\n",
    "    # 조합 만들기\n",
    "    for m in range(1,n+1):\n",
    "        a = [0]*m\n",
    "        DFS(0, 1)\n",
    "    \n",
    "    # 유일성 확인\n",
    "    uni = []\n",
    "    for now in res:\n",
    "        cand = list(map(lambda x: ''.join(x), zip(*[i for idx, i in enumerate(list(zip(*relation))) if idx in now])))\n",
    "        if sorted(list(set(cand))) == sorted(list(cand)):\n",
    "            uni.append(now)\n",
    "            \n",
    "   # 최소성 확인\n",
    "    que = deque(uni)\n",
    "    answer = 0\n",
    "    while que:\n",
    "        now = que.popleft()\n",
    "        answer += 1\n",
    "        que = deque(filter(lambda i: (set(now) & set(i))!=set(now), list(que)))\n",
    "    return answer\n",
    "\n",
    "# main\n",
    "relation = [[\"100\",\"ryan\",\"music\",\"2\"],[\"200\",\"apeach\",\"math\",\"2\"],[\"300\",\"tube\",\"computer\",\"3\"],[\"400\",\"con\",\"computer\",\"4\"],[\"500\",\"muzi\",\"music\",\"3\"],[\"600\",\"apeach\",\"music\",\"2\"]]\n",
    "# relation = [['a','1','aaa','c','ng'],['b','1','bbb','c','g'],['c','1','aaa','d','ng'],['d','2','bbb','d','ng']]\n",
    "solution(relation)"
   ]
  },
  {
   "cell_type": "markdown",
   "id": "e1828dcf-176c-4296-95c2-2baa5eb7f879",
   "metadata": {},
   "source": [
    "# 뉴스 클러스터링"
   ]
  },
  {
   "cell_type": "code",
   "execution_count": 291,
   "id": "8a625ca7-670e-4774-89b4-e8a8b99117c9",
   "metadata": {},
   "outputs": [
    {
     "data": {
      "text/plain": [
       "['AA', 'AA', 'AA', 'BB', 'BB', 'BB']"
      ]
     },
     "execution_count": 291,
     "metadata": {},
     "output_type": "execute_result"
    }
   ],
   "source": [
    "str1 = \"aa+aa+bb+bb\"\n",
    "str2 = \"AAAA+BBBB\"\n",
    "\n",
    "str2\n"
   ]
  },
  {
   "cell_type": "code",
   "execution_count": 296,
   "id": "e430538a-9441-4aaa-bc67-b23b19bde3a8",
   "metadata": {},
   "outputs": [
    {
     "name": "stdout",
     "output_type": "stream",
     "text": [
      "['AA', 'AA', 'BB', 'BB'] ['AA', 'AA', 'AA', 'BB', 'BB', 'BB']\n"
     ]
    },
    {
     "data": {
      "text/plain": [
       "43690"
      ]
     },
     "execution_count": 296,
     "metadata": {},
     "output_type": "execute_result"
    }
   ],
   "source": [
    "str1 = \"aa+aa+bb+bb\"\n",
    "str2 = \"AAAA+BBBB\"\n",
    "\n",
    "import re\n",
    "def get_chunk(str1):\n",
    "    chunk = [str1[i:i+2].upper() for i in range(0,len(str1))]\n",
    "    p = re.compile('[A-Z]{2}')\n",
    "    return list(filter(lambda x: p.match(x), chunk))\n",
    "\n",
    "def solution(str1, str2):\n",
    "    chunk1 = get_chunk(str1)\n",
    "    chunk2 = get_chunk(str2)\n",
    "    dic1 = {i: chunk1.count(i) for i in chunk1}\n",
    "    dic2 = {i: chunk2.count(i) for i in chunk2}\n",
    "    inter = list(set(dic1.keys()).intersection(set(dic2.keys())))\n",
    "    uni = chunk1 + chunk2\n",
    "    len_inter = 0\n",
    "    for i in inter:\n",
    "        len_inter += min(dic1.get(i),dic2.get(i)) \n",
    "    len_uni = len(uni)-len_inter\n",
    "    print(chunk1, chunk2)\n",
    "#     print(len_inter, len_uni)\n",
    "    if len_inter+len_uni==0:\n",
    "        answer = 65536\n",
    "    else:\n",
    "        answer = int((len_inter/len_uni)*65536)\n",
    "    return answer\n",
    "\n",
    "solution(str1, str2)"
   ]
  },
  {
   "cell_type": "code",
   "execution_count": 165,
   "id": "c7c5cfff-252e-4ab4-890e-da74d1aa62dc",
   "metadata": {},
   "outputs": [
    {
     "data": {
      "text/plain": [
       "['4', '1']"
      ]
     },
     "execution_count": 165,
     "metadata": {},
     "output_type": "execute_result"
    }
   ],
   "source": [
    "chunk1 = [\"1\", \"2\", \"4\", \"4\", \"4\"]\n",
    "chunk2 = [\"4\", \"4\", \"5\", \"6\", \"7\", \"8\", \"8\",\"1\",\"1\"]\n",
    "dic1 = {i: chunk1.count(i) for i in chunk1}\n",
    "dic2 = {i: chunk2.count(i) for i in chunk2}\n",
    "inter = list(set(dic1.keys()).intersection(set(dic2.keys())))\n",
    "inter"
   ]
  },
  {
   "cell_type": "code",
   "execution_count": null,
   "id": "78c04bb3-c1ef-401b-a395-d8b84cbdc14b",
   "metadata": {},
   "outputs": [],
   "source": [
    "import numpy as np\n",
    "def solution(str1, str2):\n",
    "    answer = 0\n",
    "    str1 = str1.lower()\n",
    "    str2 = str2.lower()\n",
    "    if str1 == str2: answer = 1*65536\n",
    "    else:\n",
    "        str1 = list(map(lambda x: str1[x:x+2], range(len(str1)-1)))\n",
    "        str2 = list(map(lambda x: str2[x:x+2], range(len(str2)-1)))\n",
    "        str1 = list(filter(lambda x: (x.isalpha())&(len(x.strip())==2), str1))\n",
    "        str2 = list(filter(lambda x: (x.isalpha())&(len(x.strip())==2), str2))\n",
    "        if (len(str1) == 0)&(len(str2) == 0): answer = 1*65536\n",
    "        else:\n",
    "            dic1 = dict(zip(list(set(str1)),list(map(lambda x: str1.count(x), set(str1)))))\n",
    "            dic2 = dict(zip(list(set(str2)),list(map(lambda x: str2.count(x), set(str2)))))\n",
    "\n",
    "            inter = set(str1_dic.keys()) & set(str2_dic.keys())\n",
    "\n",
    "            s_min = 0\n",
    "            for i in inter:\n",
    "                s_min += min(str1_dic[i], str2_dic[i])\n",
    "\n",
    "            answer = np.floor(s_min*65536/(len(str1)+len(str2)-s_min))\n",
    "    return answer"
   ]
  },
  {
   "cell_type": "markdown",
   "id": "504cd925-59b5-4f31-b3ce-ddb6efa8ac13",
   "metadata": {},
   "source": [
    "# 길찾기 게임"
   ]
  },
  {
   "cell_type": "code",
   "execution_count": 4,
   "id": "b9e0fb4e-044a-4f54-8fe7-9622f0645d48",
   "metadata": {},
   "outputs": [
    {
     "data": {
      "text/plain": [
       "{1: [5, 3],\n",
       " 2: [11, 5],\n",
       " 3: [13, 3],\n",
       " 4: [3, 5],\n",
       " 5: [6, 1],\n",
       " 6: [1, 3],\n",
       " 7: [8, 6],\n",
       " 8: [7, 2],\n",
       " 9: [2, 2]}"
      ]
     },
     "execution_count": 4,
     "metadata": {},
     "output_type": "execute_result"
    }
   ],
   "source": [
    "nodeinfo = [[5,3],[11,5],[13,3],\n",
    "            [3,5],[6,1],[1,3],\n",
    "            [8,6],[7,2],[2,2]]\n",
    "nodeinfo_dic = dict(zip(list(range(1,len(nodeinfo)+1)), nodeinfo))\n",
    "nodeinfo_dic"
   ]
  },
  {
   "cell_type": "code",
   "execution_count": 6,
   "id": "e3044f67-95be-4e7d-8b6f-3091218c982d",
   "metadata": {},
   "outputs": [
    {
     "data": {
      "text/plain": [
       "[[7, 4, 6, 9, 1, 8, 5, 2, 3], [9, 6, 5, 8, 1, 4, 3, 2, 7]]"
      ]
     },
     "execution_count": 6,
     "metadata": {},
     "output_type": "execute_result"
    }
   ],
   "source": [
    "import sys\n",
    "sys.setrecursionlimit(10**6)\n",
    "\n",
    "class Tree:\n",
    "    def __init__(self,nodes):\n",
    "        self.data = sorted(nodes,key=lambda x :x[1])[-1]\n",
    "        left_nodes = list(filter(lambda x :x[0] < self.data[0] , nodes))\n",
    "        right_nodes = list(filter(lambda x :x[0] > self.data[0] , nodes))\n",
    "\n",
    "        if len(left_nodes)==0:\n",
    "            self.left = None\n",
    "        else:\n",
    "            self.left = Tree(left_nodes)\n",
    "\n",
    "        if len(right_nodes)==0:\n",
    "            self.right = None\n",
    "        else:\n",
    "            self.right = Tree(right_nodes)\n",
    "            \n",
    "def DFS(nodes, preorder, postorder):\n",
    "    preorder.append(nodes.data[-1])\n",
    "    if nodes.left is not None:\n",
    "        DFS(nodes.left, preorder, postorder)\n",
    "    if nodes.right is not None:\n",
    "        DFS(nodes.right, preorder, postorder)\n",
    "    postorder.append(nodes.data[-1])\n",
    "            \n",
    "def solution(nodeinfo):\n",
    "    nodes = []\n",
    "    for idx, node in enumerate(nodeinfo):\n",
    "        nodes.append(node+[idx+1])\n",
    "    root = Tree(nodes)\n",
    "    postorder = []\n",
    "    preorder = []\n",
    "    DFS(root, preorder, postorder)\n",
    "    answer = [preorder, postorder]\n",
    "    return answer\n",
    "\n",
    "\n",
    "solution(nodeinfo)"
   ]
  },
  {
   "cell_type": "markdown",
   "id": "732d058f-67ac-4065-afb7-2061311403bb",
   "metadata": {},
   "source": [
    "# 실패율"
   ]
  },
  {
   "cell_type": "code",
   "execution_count": 2,
   "id": "d795d1ea",
   "metadata": {},
   "outputs": [],
   "source": [
    "def solution(N, stages):\n",
    "    rate = [0]*(N+1)\n",
    "    n = len(stages)\n",
    "    for i in range(1,N+1):\n",
    "        cnt = stages.count(i)\n",
    "        if n==0:\n",
    "            rate[i] = 0\n",
    "        else:\n",
    "            rate[i] = cnt/n\n",
    "        n = n-cnt\n",
    "    rate = list(zip(list(range(1, N+1)), rate[1:]))\n",
    "    rate.sort(key = lambda x: x[1], reverse=True) # 실패율 기준으로 내림차순 정렬\n",
    "    return list(zip(*rate))[0]"
   ]
  },
  {
   "cell_type": "code",
   "execution_count": 45,
   "id": "87703c57",
   "metadata": {},
   "outputs": [],
   "source": [
    "N = 5\n",
    "stages = [2, 1, 2, 6, 2, 4, 3, 3]"
   ]
  },
  {
   "cell_type": "code",
   "execution_count": 42,
   "id": "ac00bf05",
   "metadata": {},
   "outputs": [],
   "source": [
    "N = 4\n",
    "stages = [4, 4, 4, 4, 4]"
   ]
  },
  {
   "cell_type": "code",
   "execution_count": 21,
   "id": "acc65dbc",
   "metadata": {},
   "outputs": [
    {
     "name": "stdout",
     "output_type": "stream",
     "text": [
      "1 0 5\n",
      "2 0 5\n",
      "3 0 5\n",
      "4 5 5\n",
      "(4, 1, 2, 3)\n"
     ]
    }
   ],
   "source": [
    "# N = 5\n",
    "# stages = [2, 1, 2, 6, 2, 4, 3, 3]\n",
    "N = 4\n",
    "stages = [4, 4, 4, 4, 4]\n",
    "\n",
    "rate = [0]*(N+1)\n",
    "n = len(stages)\n",
    "for i in range(1,N+1):\n",
    "    cnt = stages.count(i)\n",
    "    if n==0:\n",
    "        rate[i] = 0\n",
    "    else:\n",
    "        rate[i] = cnt/n\n",
    "    print(i, cnt, n)\n",
    "    n = n-cnt\n",
    "rate = list(zip(list(range(1, N+1)), rate[1:]))\n",
    "rate.sort(key = lambda x: x[1], reverse=True) # 실패율 기준으로 내림차순 정렬\n",
    "print(list(zip(*rate))[0])\n",
    "        "
   ]
  },
  {
   "cell_type": "code",
   "execution_count": 15,
   "id": "d5b13eed",
   "metadata": {},
   "outputs": [
    {
     "name": "stdout",
     "output_type": "stream",
     "text": [
      "[1, 1, 2, 2, 3]\n",
      "1 1 5\n",
      "1 2 5\n",
      "1 2 5\n",
      "2 2 3\n",
      "2 2 3\n",
      "3 1 1\n",
      "[0, 0.4, 0.6666666666666666, 1.0, 0]\n",
      "(3, 2, 1, 4)\n"
     ]
    }
   ],
   "source": [
    "# N = 5\n",
    "# stages = [2, 1, 2, 6, 2, 4, 3, 3]\n",
    "# N = 4\n",
    "# stages = [4, 4, 4, 4, 4]\n",
    "N = 4\n",
    "stages = [1, 2, 3, 2, 1]\n",
    "\n",
    "rate = [0]*(N+1)\n",
    "n = len(stages)\n",
    "stages.sort()\n",
    "print(stages)\n",
    "stage = list(set(stages))\n",
    "idx = stages[0]\n",
    "cnt = 0\n",
    "for i in stages:\n",
    "    if i==idx:\n",
    "        cnt += 1\n",
    "        print(idx, cnt, n)\n",
    "    else:\n",
    "        if n==0:\n",
    "            rate[idx] = 0\n",
    "        else:\n",
    "            rate[idx] = cnt/n\n",
    "        print(idx, cnt, n)\n",
    "        n = n-cnt\n",
    "        idx += 1\n",
    "        if i==idx:\n",
    "            cnt = 1\n",
    "        else:\n",
    "            cnt = 0\n",
    "print(idx, cnt, n)\n",
    "    \n",
    "rate[idx] = cnt/n\n",
    "print(rate)\n",
    "rate = list(zip(list(range(1, N+1)), rate[1:]))\n",
    "rate.sort(key = lambda x: x[1], reverse=True)\n",
    "print(list(zip(*rate))[0])\n",
    "\n",
    "        "
   ]
  },
  {
   "cell_type": "markdown",
   "id": "8c249d45-2f84-4c43-a608-716cf3cdb9ba",
   "metadata": {},
   "source": [
    "# 메뉴 리뉴얼"
   ]
  },
  {
   "cell_type": "code",
   "execution_count": 132,
   "id": "5e073c59-bb2e-406d-8277-890a252e4b25",
   "metadata": {},
   "outputs": [],
   "source": [
    "orders = [\"ABCFG\", \"AC\", \"CDE\", \"ACDE\", \"BCFG\", \"ACDEH\"]\n",
    "course = [2,3,4]\n"
   ]
  },
  {
   "cell_type": "code",
   "execution_count": 107,
   "id": "a44e25dc-c0c6-46e5-a4b0-4be968107e3f",
   "metadata": {},
   "outputs": [],
   "source": [
    "orders = [\"ABCDE\", \"AB\", \"CD\", \"ADE\", \"XYZ\", \"XYZ\", \"ACD\"]\n",
    "course = [2,3,5]\n"
   ]
  },
  {
   "cell_type": "code",
   "execution_count": 135,
   "id": "9414ac1b-f564-436b-8f0d-827d1790dba4",
   "metadata": {},
   "outputs": [],
   "source": [
    "orders = \t[\"XYZ\", \"XWY\", \"WXA\"]\n",
    "course = [2, 3, 4]\n"
   ]
  },
  {
   "cell_type": "code",
   "execution_count": 202,
   "id": "193f6c1e-3b37-4b9d-a7e0-24f72700d690",
   "metadata": {},
   "outputs": [
    {
     "data": {
      "text/plain": [
       "['WX', 'XY']"
      ]
     },
     "execution_count": 202,
     "metadata": {},
     "output_type": "execute_result"
    }
   ],
   "source": [
    "from itertools import combinations\n",
    "def solution(orders, course):\n",
    "    answer = []\n",
    "    for n in course:\n",
    "        ls = []\n",
    "        for order in orders:\n",
    "            comb = list(map(lambda x: ''.join(x),list(map(sorted, list(combinations(list(order), n))))))\n",
    "            ls.extend(comb)\n",
    "        dic_ = dict(zip(set(ls), [0]*len(set(ls))))\n",
    "        for i in ls:\n",
    "            for key in dic_:\n",
    "                if i == key:\n",
    "                    dic_[key] += 1\n",
    "        answer.extend([k for k, v in dic_.items() if (v == max(dic_.values()))and(v>1)])\n",
    "    return sorted(answer)\n",
    "solution(orders, course)"
   ]
  },
  {
   "cell_type": "code",
   "execution_count": 210,
   "id": "df9ba61f-2a26-4e2a-a71c-108ae69f6e31",
   "metadata": {},
   "outputs": [
    {
     "data": {
      "text/plain": [
       "['WX', 'XY']"
      ]
     },
     "execution_count": 210,
     "metadata": {},
     "output_type": "execute_result"
    }
   ],
   "source": [
    "def combinations_scratch(l):\n",
    "    if l:\n",
    "        result = combinations_scratch(l[:-1])\n",
    "        return result + [c + [l[-1]] for c in result]\n",
    "    else:\n",
    "        return [[]]\n",
    "    \n",
    "def solution(orders, course):\n",
    "    answer = []\n",
    "    for n in course:\n",
    "        ls = []\n",
    "        for order in orders:\n",
    "            comb = list(map(lambda x: ''.join(x),list(map(sorted, list(filter(lambda x: len(x)==n, combinations_scratch(order)))))))\n",
    "            ls.extend(comb)\n",
    "        dic_ = dict(zip(set(ls), [0]*len(set(ls))))\n",
    "        for i in ls:\n",
    "            for key in dic_:\n",
    "                if i == key:\n",
    "                    dic_[key] += 1\n",
    "        answer.extend([k for k, v in dic_.items() if (v == max(dic_.values()))and(v>1)])\n",
    "    return sorted(answer)\n",
    "solution(orders, course)"
   ]
  },
  {
   "cell_type": "code",
   "execution_count": 211,
   "id": "b451f44d-c848-4dfc-ae9f-22035c722c17",
   "metadata": {},
   "outputs": [
    {
     "data": {
      "text/plain": [
       "[['X', 'Y'], ['X', 'Z'], ['Y', 'Z']]"
      ]
     },
     "execution_count": 211,
     "metadata": {},
     "output_type": "execute_result"
    }
   ],
   "source": [
    "list(filter(lambda x: len(x)==n, combinations_scratch(orders[0])))"
   ]
  },
  {
   "cell_type": "code",
   "execution_count": 212,
   "id": "f32ec961-b269-4911-b8eb-f64148cf0f1f",
   "metadata": {},
   "outputs": [
    {
     "data": {
      "text/plain": [
       "[('X', 'Y'), ('X', 'Z'), ('Y', 'Z')]"
      ]
     },
     "execution_count": 212,
     "metadata": {},
     "output_type": "execute_result"
    }
   ],
   "source": [
    "list(combinations(list(orders[0]), n))"
   ]
  },
  {
   "cell_type": "code",
   "execution_count": null,
   "id": "5eb1e619-7830-407b-b45e-bd85fbf75fb7",
   "metadata": {},
   "outputs": [],
   "source": []
  }
 ],
 "metadata": {
  "kernelspec": {
   "display_name": "Python 3",
   "language": "python",
   "name": "python3"
  },
  "language_info": {
   "codemirror_mode": {
    "name": "ipython",
    "version": 3
   },
   "file_extension": ".py",
   "mimetype": "text/x-python",
   "name": "python",
   "nbconvert_exporter": "python",
   "pygments_lexer": "ipython3",
   "version": "3.7.10"
  }
 },
 "nbformat": 4,
 "nbformat_minor": 5
}
